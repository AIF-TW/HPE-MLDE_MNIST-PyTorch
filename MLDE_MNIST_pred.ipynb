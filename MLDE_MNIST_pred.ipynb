{
 "cells": [
  {
   "cell_type": "markdown",
   "id": "6a86a7d2-5c95-46f2-b4c1-c5bb8029a7a7",
   "metadata": {},
   "source": [
    "## 所需的套件"
   ]
  },
  {
   "cell_type": "code",
   "execution_count": 1,
   "id": "b5ca1195-517e-4d89-a26b-ae7a8d2d47f7",
   "metadata": {
    "tags": []
   },
   "outputs": [],
   "source": [
    "import determined as det\n",
    "from determined.experimental import client\n",
    "\n",
    "%config InlineBackend.figure_format = 'retina'"
   ]
  },
  {
   "cell_type": "markdown",
   "id": "a10c817d-87e0-49a3-b8fc-135f53bb659e",
   "metadata": {},
   "source": [
    "## 下載訓練好的模型"
   ]
  },
  {
   "cell_type": "code",
   "execution_count": 2,
   "id": "bb6e1ad5-69d6-4781-b11e-fcd3fe045bd7",
   "metadata": {
    "tags": []
   },
   "outputs": [
    {
     "name": "stdout",
     "output_type": "stream",
     "text": [
      "mps\n"
     ]
    }
   ],
   "source": [
    "model_entry = client.get_model(\"MNIST\")  # 模型名稱為MNIST，名稱是在MLDE的UI上由使用者自訂的\n",
    "version = model_entry.get_version(3)  \n",
    "# 選擇版本號碼V3，版本號碼紀錄在模型頁面最左邊欄位的「V」，\n",
    "\n",
    "ckpt = version.checkpoint\n",
    "path = ckpt.download()  # 模型路徑\n",
    "\n",
    "# Load a PyTorchTrial from a checkpoint:\n",
    "from determined import pytorch\n",
    "my_trial = pytorch.load_trial_from_checkpoint_path(path)  # 下載模型"
   ]
  },
  {
   "cell_type": "markdown",
   "id": "dfa08ea8-e248-4975-af40-cb9f33ebf91b",
   "metadata": {},
   "source": [
    "## 模型架構"
   ]
  },
  {
   "cell_type": "code",
   "execution_count": 3,
   "id": "e697cd4e-1242-45d8-ae25-9c1003cf0ac9",
   "metadata": {
    "tags": []
   },
   "outputs": [
    {
     "name": "stdout",
     "output_type": "stream",
     "text": [
      "==========================================================================================\n",
      "Layer (type:depth-idx)                   Output Shape              Param #\n",
      "==========================================================================================\n",
      "├─Conv2d: 1-1                            [-1, 23, 26, 26]          230\n",
      "├─ReLU: 1-2                              [-1, 23, 26, 26]          --\n",
      "├─Conv2d: 1-3                            [-1, 62, 24, 24]          12,896\n",
      "├─ReLU: 1-4                              [-1, 62, 24, 24]          --\n",
      "├─MaxPool2d: 1-5                         [-1, 62, 12, 12]          --\n",
      "├─Dropout2d: 1-6                         [-1, 62, 12, 12]          --\n",
      "├─Flatten: 1-7                           [-1, 8928]                --\n",
      "├─Linear: 1-8                            [-1, 128]                 1,142,912\n",
      "├─ReLU: 1-9                              [-1, 128]                 --\n",
      "├─Dropout2d: 1-10                        [-1, 128]                 --\n",
      "├─Linear: 1-11                           [-1, 10]                  1,290\n",
      "├─LogSoftmax: 1-12                       [-1, 10]                  --\n",
      "==========================================================================================\n",
      "Total params: 1,157,328\n",
      "Trainable params: 1,157,328\n",
      "Non-trainable params: 0\n",
      "Total mult-adds (M): 8.68\n",
      "==========================================================================================\n",
      "Input size (MB): 0.00\n",
      "Forward/backward pass size (MB): 0.39\n",
      "Params size (MB): 4.41\n",
      "Estimated Total Size (MB): 4.81\n",
      "==========================================================================================\n",
      "==========================================================================================\n",
      "Layer (type:depth-idx)                   Output Shape              Param #\n",
      "==========================================================================================\n",
      "├─Conv2d: 1-1                            [-1, 23, 26, 26]          230\n",
      "├─ReLU: 1-2                              [-1, 23, 26, 26]          --\n",
      "├─Conv2d: 1-3                            [-1, 62, 24, 24]          12,896\n",
      "├─ReLU: 1-4                              [-1, 62, 24, 24]          --\n",
      "├─MaxPool2d: 1-5                         [-1, 62, 12, 12]          --\n",
      "├─Dropout2d: 1-6                         [-1, 62, 12, 12]          --\n",
      "├─Flatten: 1-7                           [-1, 8928]                --\n",
      "├─Linear: 1-8                            [-1, 128]                 1,142,912\n",
      "├─ReLU: 1-9                              [-1, 128]                 --\n",
      "├─Dropout2d: 1-10                        [-1, 128]                 --\n",
      "├─Linear: 1-11                           [-1, 10]                  1,290\n",
      "├─LogSoftmax: 1-12                       [-1, 10]                  --\n",
      "==========================================================================================\n",
      "Total params: 1,157,328\n",
      "Trainable params: 1,157,328\n",
      "Non-trainable params: 0\n",
      "Total mult-adds (M): 8.68\n",
      "==========================================================================================\n",
      "Input size (MB): 0.00\n",
      "Forward/backward pass size (MB): 0.39\n",
      "Params size (MB): 4.41\n",
      "Estimated Total Size (MB): 4.81\n",
      "==========================================================================================\n"
     ]
    },
    {
     "name": "stderr",
     "output_type": "stream",
     "text": [
      "/opt/miniconda3/envs/aif_Torch/lib/python3.9/site-packages/torch/nn/functional.py:1331: UserWarning: dropout2d: Received a 2-D input to dropout2d, which is deprecated and will result in an error in a future release. To retain the behavior and silence this warning, please use dropout instead. Note that dropout2d exists to provide channel-wise dropout on inputs with 2 spatial dimensions, a channel dimension, and an optional batch dimension (i.e. 3D or 4D inputs).\n",
      "  warnings.warn(warn_msg)\n",
      "/opt/miniconda3/envs/aif_Torch/lib/python3.9/site-packages/torch/nn/modules/container.py:217: UserWarning: Implicit dimension choice for log_softmax has been deprecated. Change the call to include dim=X as an argument.\n",
      "  input = module(input)\n"
     ]
    }
   ],
   "source": [
    "from torchsummary.torchsummary import summary\n",
    "import torch\n",
    "\n",
    "print(summary(my_trial.model, input_data=torch.randn(1, 1, 28, 28)))  # 模型架構"
   ]
  },
  {
   "cell_type": "markdown",
   "id": "2e30f169-38c2-4d9b-9849-dd90028e8624",
   "metadata": {},
   "source": [
    "## 以MNIST資料集進行推論"
   ]
  },
  {
   "cell_type": "code",
   "execution_count": 4,
   "id": "534917f0-28de-4111-9ec5-df139da22ce8",
   "metadata": {
    "tags": []
   },
   "outputs": [],
   "source": [
    "from torchvision import datasets, transforms\n",
    "from torch.utils.data import DataLoader\n",
    "\n",
    "val_data =  DataLoader(\n",
    "    datasets.MNIST(\n",
    "        root='./',\n",
    "        download=True,\n",
    "        train=False,\n",
    "        transform=transforms.Compose(\n",
    "            [transforms.ToTensor(),\n",
    "             transforms.Normalize((0.1307,), (0.3081,)),\n",
    "            ]\n",
    "        ),\n",
    "    )\n",
    ")"
   ]
  },
  {
   "cell_type": "code",
   "execution_count": 5,
   "id": "7d501b18-3739-4428-a68a-05ffc741eb85",
   "metadata": {
    "tags": []
   },
   "outputs": [
    {
     "data": {
      "image/png": "[encoded data removed]",
      "text/plain": [
       "<Figure size 640x480 with 1 Axes>"
      ]
     },
     "metadata": {
      "image/png": {
       "height": 434,
       "width": 416
      }
     },
     "output_type": "display_data"
    }
   ],
   "source": [
    "import matplotlib.pyplot as plt\n",
    "\n",
    "img, label = next(iter(val_data))\n",
    "\n",
    "plt.imshow(img.numpy().reshape(28, 28), cmap='gray')\n",
    "plt.title(label.numpy())\n",
    "plt.show()"
   ]
  },
  {
   "cell_type": "markdown",
   "id": "0f854c90-a3e9-4d70-9766-966ed78ddae1",
   "metadata": {},
   "source": [
    "## 模型推論結果"
   ]
  },
  {
   "cell_type": "code",
   "execution_count": 7,
   "id": "e0f1dcc6-7e2f-4a8e-ba0d-d12a7ff59a3e",
   "metadata": {
    "tags": []
   },
   "outputs": [
    {
     "name": "stdout",
     "output_type": "stream",
     "text": [
      "Prediction: [[7]]\n"
     ]
    }
   ],
   "source": [
    "print(f'Prediction: {my_trial.model(img).argmax(dim=1, keepdim=True).numpy()}')"
   ]
  },
  {
   "cell_type": "code",
   "execution_count": null,
   "id": "b6e4160b-760e-4a85-b556-323e3984ab61",
   "metadata": {},
   "outputs": [],
   "source": []
  }
 ],
 "metadata": {
  "kernelspec": {
   "display_name": "Python 3 (ipykernel)",
   "language": "python",
   "name": "python3"
  },
  "language_info": {
   "codemirror_mode": {
    "name": "ipython",
    "version": 3
   },
   "file_extension": ".py",
   "mimetype": "text/x-python",
   "name": "python",
   "nbconvert_exporter": "python",
   "pygments_lexer": "ipython3",
   "version": "3.9.17"
  }
 },
 "nbformat": 4,
 "nbformat_minor": 5
}
